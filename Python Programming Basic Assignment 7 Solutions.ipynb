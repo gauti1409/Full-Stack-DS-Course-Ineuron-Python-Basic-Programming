{
 "cells": [
  {
   "cell_type": "markdown",
   "metadata": {},
   "source": [
    "# Python Programming Basic Assignment"
   ]
  },
  {
   "cell_type": "markdown",
   "metadata": {},
   "source": [
    "## Programming Assignment 7 Solutions"
   ]
  },
  {
   "cell_type": "markdown",
   "metadata": {},
   "source": [
    "1.Write a Python Program to find sum of array?"
   ]
  },
  {
   "cell_type": "code",
   "execution_count": 39,
   "metadata": {},
   "outputs": [
    {
     "name": "stdout",
     "output_type": "stream",
     "text": [
      "Enter the numbers you want to put in an array separated by space: 23 45 56 67 89\n",
      "The list of the numbers is : [23.0, 45.0, 56.0, 67.0, 89.0]\n",
      "The sum of the elements in the array [23.0, 45.0, 56.0, 67.0, 89.0] is 280.0\n"
     ]
    }
   ],
   "source": [
    "# To find the sum of an array\n",
    "\n",
    "user_input = input(\"Enter the numbers you want to put in an array separated by space: \")\n",
    "user_list = user_input.split()\n",
    "\n",
    "for num in range(len(user_list)):\n",
    "    user_list[num] = float(user_list[num])\n",
    "\n",
    "print(f\"The list of the numbers is : {user_list}\")\n",
    "\n",
    "def elements_sum(user_list):\n",
    "\n",
    "    sum_of_elements = 0\n",
    "    for element in user_list:\n",
    "        sum_of_elements = sum_of_elements + element\n",
    "    return sum_of_elements\n",
    "    \n",
    "print(f\"The sum of the elements in the array {user_list} is {elements_sum(user_list)}\")"
   ]
  },
  {
   "cell_type": "markdown",
   "metadata": {},
   "source": [
    "2.Write a Python Program to find largest element in an array?"
   ]
  },
  {
   "cell_type": "code",
   "execution_count": 37,
   "metadata": {},
   "outputs": [
    {
     "name": "stdout",
     "output_type": "stream",
     "text": [
      "Enter the numbers you want to put in an array separated by space: 34 56 78 98 99 199 255\n",
      "The list of the numbers is : [34.0, 56.0, 78.0, 98.0, 99.0, 199.0, 255.0]\n",
      "The largest number in the array [34.0, 56.0, 78.0, 98.0, 99.0, 199.0, 255.0] is: 255.0\n"
     ]
    }
   ],
   "source": [
    "# To find the largest element in an array\n",
    "\n",
    "user_input = input(\"Enter the numbers you want to put in an array separated by space: \")\n",
    "user_list = user_input.split()\n",
    "\n",
    "for num in range(len(user_list)):\n",
    "    user_list[num] = float(user_list[num])\n",
    "\n",
    "print(f\"The list of the numbers is : {user_list}\")\n",
    "\n",
    "def maximum_num(user_list):\n",
    "    \n",
    "    max_num = user_list[0]\n",
    "\n",
    "    for num in range(1, len(user_list)):\n",
    "        if user_list[num]> max_num:\n",
    "            max_num = user_list[num]\n",
    "    return max_num\n",
    "    \n",
    "print(f\"The largest number in the array {user_list} is: {maximum_num(user_list)}\")"
   ]
  },
  {
   "cell_type": "markdown",
   "metadata": {},
   "source": [
    "3.Write a Python Program for array rotation?"
   ]
  },
  {
   "cell_type": "code",
   "execution_count": 27,
   "metadata": {},
   "outputs": [
    {
     "name": "stdout",
     "output_type": "stream",
     "text": [
      "Enter the elements you want to put in an array separated by space: 1 2 3 4 5\n",
      "The list of the elements is : ['1', '2', '3', '4', '5']\n",
      "The length of the array is : 5\n",
      "Enter the no. of times you want to left rotate the array: 3\n",
      "The array when rotated 3 times to the left is given as : ['4', '5', '1', '2', '3']\n",
      "The array when rotated 3 times to the right is given as : ['3', '4', '5', '1', '2']\n"
     ]
    }
   ],
   "source": [
    "def left_rotate(array, no_of_rotations):\n",
    "    \n",
    "    for i in range(0,no_of_rotations):\n",
    "        first_element = array[0]\n",
    "        \n",
    "        for j in range(len(array)-1):\n",
    "            array[j] = array[j+1]\n",
    "        \n",
    "        array[len(array)-1] = first_element\n",
    "    \n",
    "    return array\n",
    "\n",
    "def right_rotate(array, no_of_rotations):\n",
    "    \n",
    "    for i in range(0,no_of_rotations):\n",
    "        last_element = array[len(array)-1]\n",
    "        \n",
    "        for j in range(len(array)-1, -1, -1):\n",
    "            array[j] = array[j-1]\n",
    "        \n",
    "        array[0] = last_element\n",
    "    \n",
    "    return array\n",
    "\n",
    "user_input = input(\"Enter the elements you want to put in an array separated by space: \")\n",
    "user_list = user_input.split()\n",
    "user_list_1 = user_list.copy()\n",
    "\n",
    "print(f\"The list of the elements is : {user_list}\")\n",
    "\n",
    "len_of_array = len(user_list)\n",
    "\n",
    "print(f\"The length of the array is : {len_of_array}\")\n",
    "\n",
    "no_of_rotations = int(input(\"Enter the no. of times you want to left rotate the array: \"))\n",
    "\n",
    "print(f\"The array when rotated {no_of_rotations} times to the left is given as : {left_rotate(user_list, no_of_rotations)}\")\n",
    "print(f\"The array when rotated {no_of_rotations} times to the right is given as : {right_rotate(user_list_1, no_of_rotations)}\")\n",
    "\n",
    "\n"
   ]
  },
  {
   "cell_type": "markdown",
   "metadata": {},
   "source": [
    "4.Write a Python Program to Split the array and add the first part to the end?"
   ]
  },
  {
   "cell_type": "code",
   "execution_count": 33,
   "metadata": {},
   "outputs": [
    {
     "name": "stdout",
     "output_type": "stream",
     "text": [
      "Enter the elements you want to put in an array separated by space: 12 10 56 18 78 19 50 45\n",
      "The list of the elements is : ['12', '10', '56', '18', '78', '19', '50', '45']\n",
      "Enter the position from which you want to split the array and add it to the end: 4\n",
      "The changed array is: ['78', '19', '50', '45', '12', '10', '56', '18']\n"
     ]
    }
   ],
   "source": [
    "user_input = input(\"Enter the elements you want to put in an array separated by space: \")\n",
    "user_list = user_input.split()\n",
    "\n",
    "print(f\"The list of the elements is : {user_list}\")\n",
    "\n",
    "position = int(input(\"Enter the position from which you want to split the array and add it to the end: \"))\n",
    "\n",
    "split_array = user_list[position:]\n",
    "\n",
    "for i in user_list:\n",
    "    if i not in split_array:\n",
    "        split_array.append(i)\n",
    "\n",
    "print(f\"The changed array is: {split_array}\")"
   ]
  },
  {
   "cell_type": "markdown",
   "metadata": {},
   "source": [
    "5.Write a Python Program to check if given array is Monotonic?"
   ]
  },
  {
   "cell_type": "code",
   "execution_count": 37,
   "metadata": {},
   "outputs": [
    {
     "name": "stdout",
     "output_type": "stream",
     "text": [
      "Enter the elements you want to put in an array separated by space: 3 2 5 6 7 8 \n",
      "The list of the elements is : [3.0, 2.0, 5.0, 6.0, 7.0, 8.0]\n",
      "Is the given array [3.0, 2.0, 5.0, 6.0, 7.0, 8.0] monotonic or not: False\n"
     ]
    }
   ],
   "source": [
    "user_input = input(\"Enter the elements you want to put in an array separated by space: \")\n",
    "user_list = user_input.split()\n",
    "\n",
    "for num in range(len(user_list)):\n",
    "    user_list[num] = float(user_list[num])\n",
    "\n",
    "print(f\"The list of the elements is : {user_list}\")\n",
    "\n",
    "def isMonotonic(A):\n",
    "  \n",
    "    return (all(A[i] <= A[i + 1] for i in range(len(A) - 1)) or\n",
    "            all(A[i] >= A[i + 1] for i in range(len(A) - 1)))\n",
    "\n",
    "print(f\"Is the given array {user_list} monotonic or not: {isMonotonic(user_list)}\") "
   ]
  },
  {
   "cell_type": "code",
   "execution_count": null,
   "metadata": {},
   "outputs": [],
   "source": []
  }
 ],
 "metadata": {
  "kernelspec": {
   "display_name": "Python 3",
   "language": "python",
   "name": "python3"
  },
  "language_info": {
   "codemirror_mode": {
    "name": "ipython",
    "version": 3
   },
   "file_extension": ".py",
   "mimetype": "text/x-python",
   "name": "python",
   "nbconvert_exporter": "python",
   "pygments_lexer": "ipython3",
   "version": "3.8.5"
  }
 },
 "nbformat": 4,
 "nbformat_minor": 4
}
