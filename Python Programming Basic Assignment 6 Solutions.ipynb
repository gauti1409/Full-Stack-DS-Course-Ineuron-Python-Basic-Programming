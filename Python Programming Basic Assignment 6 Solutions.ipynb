{
 "cells": [
  {
   "cell_type": "markdown",
   "metadata": {},
   "source": [
    "# Python Programming Basic Assignment"
   ]
  },
  {
   "cell_type": "markdown",
   "metadata": {},
   "source": [
    "## Programming Assignment 6 Solutions"
   ]
  },
  {
   "cell_type": "markdown",
   "metadata": {},
   "source": [
    "1.Write a Python Program to Display Fibonacci Sequence Using Recursion?"
   ]
  },
  {
   "cell_type": "code",
   "execution_count": 7,
   "metadata": {},
   "outputs": [
    {
     "name": "stdout",
     "output_type": "stream",
     "text": [
      "Enter the number till which you want fibonacci numbers: 7\n",
      "0 1 1 2 3 5 8 "
     ]
    }
   ],
   "source": [
    "# To display fibonacci series using recursion\n",
    "\n",
    "num = int(input(\"Enter the number till which you want fibonacci numbers: \"))\n",
    "\n",
    "def fibonacci(fib_num):\n",
    "    if fib_num <= 1:\n",
    "        return fib_num\n",
    "    else:\n",
    "        return fibonacci(fib_num-1) + fibonacci(fib_num-2)\n",
    "\n",
    "if num <= 0:\n",
    "    print(\"Please provide a number greater than zero !!\")\n",
    "else:\n",
    "    for i in range(num):\n",
    "        print(fibonacci(i), end=\" \")"
   ]
  },
  {
   "cell_type": "markdown",
   "metadata": {},
   "source": [
    "2.Write a Python Program to Find Factorial of Number Using Recursion?"
   ]
  },
  {
   "cell_type": "code",
   "execution_count": 3,
   "metadata": {},
   "outputs": [
    {
     "name": "stdout",
     "output_type": "stream",
     "text": [
      "Enter the number for which you want the factorial: 6\n",
      "The factorial of 6 is : 720\n"
     ]
    }
   ],
   "source": [
    "# To display factorial of a number using recursion\n",
    "\n",
    "num = int(input(\"Enter the number for which you want the factorial: \"))\n",
    "\n",
    "def factorial (num):   \n",
    "    if num > 0:\n",
    "        result = num * factorial(num-1)\n",
    "        return result\n",
    "    else:\n",
    "        return 1\n",
    "\n",
    "if num < 0:\n",
    "    print(\"Factorial is not calculated for negative numbers !!\")\n",
    "else:\n",
    "    print(f\"The factorial of {num} is : {factorial(num)}\")"
   ]
  },
  {
   "cell_type": "markdown",
   "metadata": {},
   "source": [
    "3.Write a Python Program to calculate your Body Mass Index?"
   ]
  },
  {
   "cell_type": "code",
   "execution_count": 15,
   "metadata": {},
   "outputs": [
    {
     "name": "stdout",
     "output_type": "stream",
     "text": [
      "Enter your weight in kilograms(kg): 70\n",
      "Enter the height in centimetres(cm): 172.72\n",
      "The Body Mass Index is: 23.46457980113192 and you come under Normal Weight Category !!\n"
     ]
    }
   ],
   "source": [
    "# Program to calculate Body Mass Index\n",
    "\n",
    "weight_in_kg = float(input(\"Enter your weight in kilograms(kg): \"))\n",
    "height_in_cm = float(input(\"Enter the height in centimetres(cm): \"))\n",
    "\n",
    "if (weight_in_kg > 0) and (height_in_cm > 0):\n",
    "    \n",
    "    height_in_m = height_in_cm/100\n",
    "    bmi = weight_in_kg/((height_in_m)**2)\n",
    "\n",
    "    if bmi <= 18.4:\n",
    "        print(f\"The Body Mass Index is: {bmi} and you come under Underwieght Category !!\")\n",
    "    elif bmi <= 24.9:\n",
    "        print(f\"The Body Mass Index is: {bmi} and you come under Normal Weight Category !!\")\n",
    "    elif bmi <= 29.9:\n",
    "        print(f\"The Body Mass Index is: {bmi} and you come under Overweight Category !!\")\n",
    "    elif bmi <= 34.9:\n",
    "        print(f\"The Body Mass Index is: {bmi} and you come under Obese Category (Class 1) !!\")\n",
    "    elif bmi <= 39.9:\n",
    "        print(f\"The Body Mass Index is: {bmi} and you come under Obese Category (Class 2) !!\")\n",
    "    else:\n",
    "        print(f\"The Body Mass Index is: {bmi} and you come under Obese Category (Class 3). Severely Obese !!\")\n",
    "        \n",
    "else:\n",
    "    print(\"Please provide valid inputs of weight and height !!\")\n",
    "    "
   ]
  },
  {
   "cell_type": "markdown",
   "metadata": {},
   "source": [
    "4.Write a Python Program to calculate the natural logarithm of any number?"
   ]
  },
  {
   "cell_type": "code",
   "execution_count": 24,
   "metadata": {},
   "outputs": [
    {
     "name": "stdout",
     "output_type": "stream",
     "text": [
      "Enter any number for which you want to find the log for: 2\n",
      "The natural log of 2.0 is : 0.6931471805599453\n"
     ]
    }
   ],
   "source": [
    "# To find the natural logarithm of any number\n",
    "\n",
    "from math import log\n",
    "\n",
    "user_input = float(input(\"Enter any number for which you want to find the log for: \"))\n",
    "\n",
    "log_num = log(user_input)\n",
    "\n",
    "print(f\"The natural log of {user_input} is : {log_num}\")"
   ]
  },
  {
   "cell_type": "markdown",
   "metadata": {},
   "source": [
    "5.Write a Python Program for cube sum of first n natural numbers?"
   ]
  },
  {
   "cell_type": "code",
   "execution_count": 33,
   "metadata": {},
   "outputs": [
    {
     "name": "stdout",
     "output_type": "stream",
     "text": [
      "Enter the numbers till which you want the cube sum of natural numbers: 5\n",
      "The cube sum of first 5 natural numbers is: 225\n"
     ]
    }
   ],
   "source": [
    "num = int(input(\"Enter the numbers till which you want the cube sum of natural numbers: \"))\n",
    "\n",
    "def cube_natural (num):\n",
    "    sum_of_cubes = 0\n",
    "    for i in range(1,num+1):\n",
    "        sum_of_cubes = sum_of_cubes + (i**3)\n",
    "    return sum_of_cubes \n",
    "    \n",
    "if num <= 0:\n",
    "    print(\"Please provide a number than greater than zero !!\")\n",
    "else:\n",
    "    print(f\"The cube sum of first {num} natural numbers is: {cube_natural(num)}\")\n"
   ]
  },
  {
   "cell_type": "code",
   "execution_count": null,
   "metadata": {},
   "outputs": [],
   "source": []
  },
  {
   "cell_type": "code",
   "execution_count": null,
   "metadata": {},
   "outputs": [],
   "source": []
  }
 ],
 "metadata": {
  "kernelspec": {
   "display_name": "Python 3",
   "language": "python",
   "name": "python3"
  },
  "language_info": {
   "codemirror_mode": {
    "name": "ipython",
    "version": 3
   },
   "file_extension": ".py",
   "mimetype": "text/x-python",
   "name": "python",
   "nbconvert_exporter": "python",
   "pygments_lexer": "ipython3",
   "version": "3.8.5"
  }
 },
 "nbformat": 4,
 "nbformat_minor": 4
}
