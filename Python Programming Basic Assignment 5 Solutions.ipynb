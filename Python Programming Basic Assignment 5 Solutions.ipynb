{
 "cells": [
  {
   "cell_type": "markdown",
   "metadata": {},
   "source": [
    "# Python Programming Basic Assignment"
   ]
  },
  {
   "cell_type": "markdown",
   "metadata": {},
   "source": [
    "## Programming Assignment 5 Solutions"
   ]
  },
  {
   "cell_type": "markdown",
   "metadata": {},
   "source": [
    "1.Write a Python Program to Find LCM?"
   ]
  },
  {
   "cell_type": "code",
   "execution_count": 13,
   "metadata": {},
   "outputs": [
    {
     "name": "stdout",
     "output_type": "stream",
     "text": [
      "Enter the numbers separated by a space: 2 7 3 9 4\n",
      "List of number is : ['2', '7', '3', '9', '4']\n",
      "The LCM of the given list [2, 7, 3, 9, 4] is: 252.0\n"
     ]
    }
   ],
   "source": [
    "# To find the LCM of given numbers\n",
    "\n",
    "# Input the numbers and store them in a list\n",
    "input_string = input(\"Enter the numbers separated by a space: \")\n",
    "user_list = input_string.split()\n",
    "print(f\"List of number is : {user_list}\")\n",
    "\n",
    "for num in range(len(user_list)):\n",
    "    user_list[num] = int(user_list[num])\n",
    "\n",
    "# Define a function for getting LCM\n",
    "def get_lcm(num1, num2):\n",
    "    if (num1 > num2):\n",
    "        num = num1\n",
    "        den = num2\n",
    "    else:\n",
    "        num = num2\n",
    "        den = num1\n",
    "    \n",
    "    rem = num % den\n",
    "    \n",
    "    while (rem!=0):\n",
    "        num = den\n",
    "        den = rem\n",
    "        rem = num % den\n",
    "    gcd = den\n",
    "    \n",
    "    lcm = (int(int(num1 * num2))/int(gcd))\n",
    "    return lcm\n",
    "\n",
    "# Take 0 and 1 index numbers to calculate the LCM of first 2 numbers\n",
    "num1 = user_list[0]\n",
    "num2 = user_list[1]\n",
    "lcm = get_lcm(num1, num2)\n",
    "\n",
    "# Looping through the rest of the numbers in the list to calculate LCM\n",
    "for num in range(2,len(user_list)):\n",
    "    lcm = get_lcm(lcm, user_list[num])\n",
    "\n",
    "print(f\"The LCM of the given list {user_list} is: {lcm}\")\n"
   ]
  },
  {
   "cell_type": "markdown",
   "metadata": {},
   "source": [
    "2.Write a Python Program to Find HCF?"
   ]
  },
  {
   "cell_type": "code",
   "execution_count": 15,
   "metadata": {},
   "outputs": [
    {
     "name": "stdout",
     "output_type": "stream",
     "text": [
      "Enter the numbers separated by a space: 24 54 120\n",
      "List of number is : ['24', '54', '120']\n",
      "The LCM of the given list [24, 54, 120] is: 12.0\n"
     ]
    }
   ],
   "source": [
    "# To find the HCF of given numbers\n",
    "\n",
    "# Input the numbers and store them in a list\n",
    "input_string = input(\"Enter the numbers separated by a space: \")\n",
    "user_list = input_string.split()\n",
    "print(f\"List of number is : {user_list}\")\n",
    "\n",
    "for num in range(len(user_list)):\n",
    "    user_list[num] = int(user_list[num])\n",
    "    \n",
    "# Define a function for getting HCF\n",
    "def get_hcf(num1, num2):\n",
    "    if (num1 > num2):\n",
    "        num = num1\n",
    "        den = num2\n",
    "    else:\n",
    "        num = num2\n",
    "        den = num1\n",
    "    \n",
    "    rem = num % den\n",
    "    \n",
    "    while (rem!=0):\n",
    "        num = den\n",
    "        den = rem\n",
    "        rem = num % den\n",
    "    hcf = den\n",
    "    \n",
    "    return hcf\n",
    "\n",
    "# Take 0 and 1 index numbers to calculate the HCF of first 2 numbers\n",
    "num1 = user_list[0]\n",
    "num2 = user_list[1]\n",
    "hcf = get_hcf(num1, num2)\n",
    "\n",
    "# Looping through the rest of the numbers in the list to calculate HCF\n",
    "for num in range(2,len(user_list)):\n",
    "    hcf = get_hcf(lcm, user_list[num])\n",
    "\n",
    "print(f\"The LCM of the given list {user_list} is: {hcf}\")"
   ]
  },
  {
   "cell_type": "markdown",
   "metadata": {},
   "source": [
    "3.Write a Python Program to Convert Decimal to Binary, Octal and Hexadecimal?"
   ]
  },
  {
   "cell_type": "code",
   "execution_count": 17,
   "metadata": {},
   "outputs": [
    {
     "name": "stdout",
     "output_type": "stream",
     "text": [
      "Enter decimal numbers for conversion (digits 0-9): 366\n",
      "The conversion of decimal number 366 is : \n",
      " Octal : 0o556 \n",
      " Binary : 0b101101110 \n",
      " Hexadecimal: 0x16e\n"
     ]
    }
   ],
   "source": [
    "# To convert decimal to Binary, Octal and Hexadecimal\n",
    "decimal = int(input(\"Enter decimal numbers for conversion (digits 0-9): \"))\n",
    "\n",
    "binary = bin(decimal)\n",
    "octal = oct(decimal)\n",
    "hexadecimal = hex(decimal)\n",
    "\n",
    "print(f\"The conversion of decimal number {decimal} is : \\n Octal : {octal} \\n Binary : {binary} \\n Hexadecimal: {hexadecimal}\")"
   ]
  },
  {
   "cell_type": "markdown",
   "metadata": {},
   "source": [
    "4.Write a Python Program To Find ASCII value of a character?"
   ]
  },
  {
   "cell_type": "code",
   "execution_count": 21,
   "metadata": {},
   "outputs": [
    {
     "name": "stdout",
     "output_type": "stream",
     "text": [
      "Enter any character to find it's ASCII value: t\n",
      "The ASCII value of t is: 116\n"
     ]
    }
   ],
   "source": [
    "user_input = input(\"Enter any character to find it's ASCII value: \")\n",
    "\n",
    "print(f\"The ASCII value of {user_input} is: {ord(user_input)}\")"
   ]
  },
  {
   "cell_type": "markdown",
   "metadata": {},
   "source": [
    "5.Write a Python Program to Make a Simple Calculator with 4 basic mathematical operations?"
   ]
  },
  {
   "cell_type": "code",
   "execution_count": 7,
   "metadata": {},
   "outputs": [
    {
     "name": "stdout",
     "output_type": "stream",
     "text": [
      "\n",
      " 1.Addition \n",
      " 2.Subtraction \n",
      " 3.Multiplication \n",
      " 4.Division \n",
      " Enter the operation choice you want to perform:56\n",
      "Please provide valid input !!\n"
     ]
    }
   ],
   "source": [
    "# To make a simple calculator \n",
    "\n",
    "user_input = int(input(\"\\n 1.Addition \\n 2.Subtraction \\n 3.Multiplication \\n 4.Division \\n Enter the operation choice you want to perform:\"))\n",
    "\n",
    "if (user_input >= 1) and (user_input <=4):\n",
    "    num_1 = float(input(\"Enter the first number: \"))\n",
    "    num_2 = float(input(\"Enter the second number: \"))\n",
    "    if user_input == 1:\n",
    "        print(f\"The addition of {num_1} and {num_2} is: {num_1 + num_2}\")\n",
    "    elif user_input == 2:\n",
    "        print(f\"The subtraction of {num_1} and {num_2} is: {num_1 - num_2}\")\n",
    "    elif user_input == 3:\n",
    "        print(f\"The subtraction of {num_1} and {num_2} is: {num_1 * num_2}\")\n",
    "    elif user_input == 4:\n",
    "        print(f\"The subtraction of {num_1} and {num_2} is: {num_1 / num_2}\")\n",
    "else:\n",
    "    print(\"Please provide valid input !!\")\n"
   ]
  },
  {
   "cell_type": "code",
   "execution_count": null,
   "metadata": {},
   "outputs": [],
   "source": []
  },
  {
   "cell_type": "code",
   "execution_count": null,
   "metadata": {},
   "outputs": [],
   "source": []
  }
 ],
 "metadata": {
  "kernelspec": {
   "display_name": "Python 3",
   "language": "python",
   "name": "python3"
  },
  "language_info": {
   "codemirror_mode": {
    "name": "ipython",
    "version": 3
   },
   "file_extension": ".py",
   "mimetype": "text/x-python",
   "name": "python",
   "nbconvert_exporter": "python",
   "pygments_lexer": "ipython3",
   "version": "3.8.5"
  }
 },
 "nbformat": 4,
 "nbformat_minor": 4
}
