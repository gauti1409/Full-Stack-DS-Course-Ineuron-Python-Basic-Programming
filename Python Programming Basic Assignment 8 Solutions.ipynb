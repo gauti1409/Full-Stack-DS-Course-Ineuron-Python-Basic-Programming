{
 "cells": [
  {
   "cell_type": "markdown",
   "metadata": {},
   "source": [
    "# Python Programming Basic Assignment"
   ]
  },
  {
   "cell_type": "markdown",
   "metadata": {},
   "source": [
    "## Programming Assignment 8 Solutions"
   ]
  },
  {
   "cell_type": "markdown",
   "metadata": {},
   "source": [
    "1.Write a Python Program to Add Two Matrices?"
   ]
  },
  {
   "cell_type": "code",
   "execution_count": 2,
   "metadata": {},
   "outputs": [
    {
     "name": "stdout",
     "output_type": "stream",
     "text": [
      "Enter the number of matrices you want to enter: 2\n",
      "Enter the number of rows you want in matrices : 2\n",
      "Enter the number of columns you want in matrices : 2\n",
      "Enter the elements you want in matrix 1 separated by space: 1 2 3 4\n",
      "Enter the elements you want in matrix 2 separated by space: 1 2 3 4\n",
      "\n",
      "The matrices given by user are : \n",
      "dict_items([('matrix_1', array([[1, 2],\n",
      "       [3, 4]])), ('matrix_2', array([[1, 2],\n",
      "       [3, 4]]))])\n",
      "\n",
      "The sum of the matrices is given as : \n",
      "[[2. 4.]\n",
      " [6. 8.]]\n"
     ]
    }
   ],
   "source": [
    "import numpy as np\n",
    "\n",
    "def matrices_input(no_of_matrices, rows, columns):\n",
    "    \n",
    "    try:\n",
    "    \n",
    "        dict_of_matrices = {}\n",
    "\n",
    "        for num in range(0, no_of_matrices): \n",
    "\n",
    "            user_input = input(f\"Enter the elements you want in matrix {num+1} separated by space: \")\n",
    "            user_list = user_input.split()\n",
    "\n",
    "            elements_list = list(map(int,user_list))\n",
    "\n",
    "            dict_of_matrices[f\"matrix_{num+1}\"] = np.array(elements_list).reshape(rows,columns)\n",
    "\n",
    "        return dict_of_matrices\n",
    "    \n",
    "    except Exception as e:\n",
    "        print(\"1. Error occurred : \" + str(e))\n",
    "\n",
    "\n",
    "def add_matrices(input_dict, rows, columns):\n",
    "    \n",
    "    try: \n",
    "        \n",
    "        sum_of_matrices = np.zeros((rows, columns))\n",
    "        \n",
    "        for values in input_dict.values():\n",
    "            sum_of_matrices = np.add(sum_of_matrices, values)\n",
    "\n",
    "        return sum_of_matrices\n",
    "    \n",
    "    except Exception as e:\n",
    "        print(\"2. Error occurred : \" + str(e))\n",
    "        \n",
    "try: \n",
    "    \n",
    "    no_of_matrices = int(input(\"Enter the number of matrices you want to enter: \"))\n",
    "    rows = int(input(\"Enter the number of rows you want in matrices : \"))\n",
    "    columns = int(input(\"Enter the number of columns you want in matrices : \"))\n",
    "\n",
    "    input_dict = matrices_input(no_of_matrices, rows, columns)\n",
    "    result = add_matrices(input_dict, rows, columns)\n",
    "\n",
    "    print(f\"\\nThe matrices given by user are : \\n{input_dict.items()}\\n\")\n",
    "\n",
    "\n",
    "except Exception as e:\n",
    "    print(\"3. Error occurred : \" + str(e))\n",
    "    \n",
    "else:\n",
    "    print(f\"The sum of the matrices is given as : \\n{result}\")\n",
    "\n"
   ]
  },
  {
   "cell_type": "markdown",
   "metadata": {},
   "source": [
    "2.Write a Python Program to Multiply Two Matrices?"
   ]
  },
  {
   "cell_type": "code",
   "execution_count": 3,
   "metadata": {},
   "outputs": [
    {
     "name": "stdout",
     "output_type": "stream",
     "text": [
      "Enter any two matrices for multiplication !!\n",
      "Enter the number of rows you want in matrix 1 : 2\n",
      "Enter the number of columns you want in matrix 1 : 4\n",
      "Enter the elements you want in matrix 1 separated by space: 1 2 3 4 5 6 7 8\n",
      "Enter the number of rows you want in matrix 2 : 4\n",
      "Enter the number of columns you want in matrix 2 : 3\n",
      "Enter the elements you want in matrix 2 separated by space: 1 2 3 4 5 6 7 8 9 10 11 12\n",
      "\n",
      "The matrices given by user are : \n",
      "dict_items([('matrix_1', array([[1, 2, 3, 4],\n",
      "       [5, 6, 7, 8]])), ('matrix_2', array([[ 1,  2,  3],\n",
      "       [ 4,  5,  6],\n",
      "       [ 7,  8,  9],\n",
      "       [10, 11, 12]]))])\n",
      "\n",
      "The multiplication of the matrices is given as : \n",
      "[[ 70  80  90]\n",
      " [158 184 210]]\n"
     ]
    }
   ],
   "source": [
    "import numpy as np\n",
    "\n",
    "def matrices_input():\n",
    "    \n",
    "    try:\n",
    "    \n",
    "        dict_of_matrices = {}\n",
    "\n",
    "        for num in range(0,2): \n",
    "            \n",
    "            rows = int(input(f\"Enter the number of rows you want in matrix {num+1} : \"))\n",
    "            columns = int(input(f\"Enter the number of columns you want in matrix {num+1} : \"))\n",
    "\n",
    "            user_input = input(f\"Enter the elements you want in matrix {num+1} separated by space: \")\n",
    "            user_list = user_input.split()\n",
    "\n",
    "            elements_list = list(map(int,user_list))\n",
    "\n",
    "            dict_of_matrices[f\"matrix_{num+1}\"] = np.array(elements_list).reshape(rows,columns)\n",
    "\n",
    "        return dict_of_matrices\n",
    "    \n",
    "    except Exception as e:\n",
    "        print(\"1. Error occurred : \" + str(e))\n",
    "\n",
    "\n",
    "def multiply_matrices(input_dict):\n",
    "    \n",
    "    try: \n",
    "        \n",
    "        matrix_1 = input_dict.get(\"matrix_1\")\n",
    "        matrix_2 = input_dict.get(\"matrix_2\")\n",
    "        \n",
    "        multiply_of_matrices = np.matmul(matrix_1, matrix_2)\n",
    "        \n",
    "        return multiply_of_matrices\n",
    "    \n",
    "    except Exception as e:\n",
    "        print(\"2. Error occurred : \" + str(e))\n",
    "        \n",
    "try: \n",
    "    \n",
    "    print(\"Enter any two matrices for multiplication !!\")\n",
    "\n",
    "    input_dict = matrices_input()\n",
    "    result = multiply_matrices(input_dict)\n",
    "\n",
    "    print(f\"\\nThe matrices given by user are : \\n{input_dict.items()}\\n\")\n",
    "\n",
    "\n",
    "except Exception as e:\n",
    "    print(\"3. Error occurred : \" + str(e))\n",
    "    \n",
    "else:\n",
    "    print(f\"The multiplication of the matrices is given as : \\n{result}\")\n",
    "\n"
   ]
  },
  {
   "cell_type": "markdown",
   "metadata": {},
   "source": [
    "3.Write a Python Program to Transpose a Matrix?"
   ]
  },
  {
   "cell_type": "code",
   "execution_count": 9,
   "metadata": {},
   "outputs": [
    {
     "name": "stdout",
     "output_type": "stream",
     "text": [
      "Enter the number of rows you want in matrix : 3\n",
      "Enter the number of columns you want in matrix : 3\n",
      "Enter the elements you want in matrix separated by space: 1 2 3 4 5 6 7 8 9\n",
      "The input matrix given by user is : \n",
      " [[1 2 3]\n",
      " [4 5 6]\n",
      " [7 8 9]]\n",
      "\n",
      "The transposed matrix given by user is : \n",
      " [[1 4 7]\n",
      " [2 5 8]\n",
      " [3 6 9]]\n",
      "\n"
     ]
    }
   ],
   "source": [
    "import numpy as np\n",
    "\n",
    "def matrices_input():\n",
    "    \n",
    "    try:\n",
    "\n",
    "        rows = int(input(f\"Enter the number of rows you want in matrix : \"))\n",
    "        columns = int(input(f\"Enter the number of columns you want in matrix : \"))\n",
    "\n",
    "        user_input = input(f\"Enter the elements you want in matrix separated by space: \")\n",
    "        user_list = user_input.split()\n",
    "\n",
    "        elements_list = list(map(int,user_list))\n",
    "\n",
    "        matrix = np.array(elements_list).reshape(rows,columns)\n",
    "\n",
    "        return matrix\n",
    "    \n",
    "    except Exception as e:\n",
    "        print(\"1. Error occurred : \" + str(e))\n",
    "        \n",
    "try:\n",
    "    \n",
    "    input_matrix = matrices_input()\n",
    "    transposed_matrix = np.transpose(input_matrix)\n",
    "    \n",
    "    \n",
    "except Exception as e:\n",
    "    print(\"2. Error occurred : \" + str(e))\n",
    "    \n",
    "else:\n",
    "    print(f\"The input matrix given by user is : \\n {input_matrix}\\n\")\n",
    "    print(f\"The transposed matrix given by user is : \\n {transposed_matrix}\\n\")\n",
    "    "
   ]
  },
  {
   "cell_type": "markdown",
   "metadata": {},
   "source": [
    "4.Write a Python Program to Sort Words in Alphabetic Order?"
   ]
  },
  {
   "cell_type": "code",
   "execution_count": 20,
   "metadata": {},
   "outputs": [
    {
     "name": "stdout",
     "output_type": "stream",
     "text": [
      "Enter any sentence and press enter:  My name is Dhruv Gautam\n",
      "The sorted words in alphabetic order are: ['Dhruv', 'Gautam', 'My', 'is', 'name']\n"
     ]
    }
   ],
   "source": [
    "def sorting (user_input):\n",
    "    \n",
    "    try:\n",
    "        \n",
    "        user_list = user_input.split()\n",
    "\n",
    "        user_list_copy = user_list.copy()\n",
    "\n",
    "        user_list_copy.sort()\n",
    "        \n",
    "        return user_list_copy\n",
    "    \n",
    "    except Exception as e:\n",
    "        print(f\"1. Error occurred: \" + str(e))\n",
    "        \n",
    "try:\n",
    "    user_input = input(f\"Enter any sentence and press enter:  \")\n",
    "    \n",
    "except Exception as e:\n",
    "    print(f\"2. Error occurred: \" + str(e))\n",
    "    \n",
    "else:\n",
    "    print(f\"The sorted words in alphabetic order are: {sorting(user_input)}\")"
   ]
  },
  {
   "cell_type": "markdown",
   "metadata": {},
   "source": [
    "5.Write a Python Program to Remove Punctuation From a String?"
   ]
  },
  {
   "cell_type": "code",
   "execution_count": 24,
   "metadata": {},
   "outputs": [
    {
     "name": "stdout",
     "output_type": "stream",
     "text": [
      "Enter a string: my!@#$ name #$%#@ is ....... dhruv\n",
      "The string given by user is: \n",
      "my!@#$ name #$%#@ is ....... dhruv\n",
      "\n",
      "The string after removing punctuation is given as: \n",
      " my name  is  dhruv\n",
      "\n"
     ]
    }
   ],
   "source": [
    "\n",
    "punctuation = '''''!()-[]{};:'\"\\,<>./?@#$%^&*_~'''  \n",
    "\n",
    "def remove_punc(string):\n",
    "    \n",
    "    try:\n",
    "    \n",
    "        no_punc_string = \" \" \n",
    "\n",
    "        for char in string:  \n",
    "            if char not in punctuation:\n",
    "                no_punc_string = no_punc_string + char\n",
    "\n",
    "        return no_punc_string\n",
    "    \n",
    "    except Exception as e:\n",
    "        print(\"1. Error occurred: \" + str(e))\n",
    "\n",
    "try:\n",
    "    user_input = input(\"Enter a string: \")\n",
    "    \n",
    "    print(f\"The string given by user is: \\n{user_input}\\n\")\n",
    "    \n",
    "    result = remove_punc(user_input)\n",
    "    \n",
    "except Exception as e:\n",
    "    print(\"2. Error occurred: \" + str(e))\n",
    "    \n",
    "else:\n",
    "    print(f\"The string after removing punctuation is given as: \\n{result}\\n\")"
   ]
  },
  {
   "cell_type": "code",
   "execution_count": null,
   "metadata": {},
   "outputs": [],
   "source": []
  }
 ],
 "metadata": {
  "kernelspec": {
   "display_name": "Python 3",
   "language": "python",
   "name": "python3"
  },
  "language_info": {
   "codemirror_mode": {
    "name": "ipython",
    "version": 3
   },
   "file_extension": ".py",
   "mimetype": "text/x-python",
   "name": "python",
   "nbconvert_exporter": "python",
   "pygments_lexer": "ipython3",
   "version": "3.8.5"
  }
 },
 "nbformat": 4,
 "nbformat_minor": 4
}
