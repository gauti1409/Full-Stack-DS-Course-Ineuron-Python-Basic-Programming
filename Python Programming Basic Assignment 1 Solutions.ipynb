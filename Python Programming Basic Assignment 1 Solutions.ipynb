{
 "cells": [
  {
   "cell_type": "markdown",
   "metadata": {},
   "source": [
    "# Python Programming Basic Assignment"
   ]
  },
  {
   "cell_type": "markdown",
   "metadata": {},
   "source": [
    "## Programming Assignment 1 Solutions"
   ]
  },
  {
   "cell_type": "markdown",
   "metadata": {},
   "source": [
    "1.Write a Python program to print \"Hello Python\"?"
   ]
  },
  {
   "cell_type": "code",
   "execution_count": 1,
   "metadata": {},
   "outputs": [
    {
     "name": "stdout",
     "output_type": "stream",
     "text": [
      "Hello Python\n"
     ]
    }
   ],
   "source": [
    "print(\"Hello Python\")"
   ]
  },
  {
   "cell_type": "markdown",
   "metadata": {},
   "source": [
    "2.Write a Python program to do arithmetical operations addition and division.?"
   ]
  },
  {
   "cell_type": "code",
   "execution_count": 7,
   "metadata": {},
   "outputs": [
    {
     "name": "stdout",
     "output_type": "stream",
     "text": [
      "Enter first number: 45.6\n",
      "Enter second number: 45.6\n",
      "The result of the addition is 91.2\n"
     ]
    }
   ],
   "source": [
    "# For addition \n",
    "\n",
    "first_num = float(input(\"Enter first number: \"))\n",
    "second_num = float(input(\"Enter second number: \"))\n",
    "result = first_num + second_num\n",
    "print(f\"The result of the addition is {result}\")"
   ]
  },
  {
   "cell_type": "code",
   "execution_count": 8,
   "metadata": {},
   "outputs": [
    {
     "name": "stdout",
     "output_type": "stream",
     "text": [
      "Enter first number: 457\n",
      "Enter second number: 45\n",
      "The result of the addition is 10.155555555555555\n"
     ]
    }
   ],
   "source": [
    "# For division \n",
    "\n",
    "first_num = float(input(\"Enter first number: \"))\n",
    "second_num = float(input(\"Enter second number: \"))\n",
    "result = a/b\n",
    "print(f\"The result of the addition is {result}\")"
   ]
  },
  {
   "cell_type": "markdown",
   "metadata": {},
   "source": [
    "3.Write a Python program to find the area of a triangle?"
   ]
  },
  {
   "cell_type": "code",
   "execution_count": 9,
   "metadata": {},
   "outputs": [
    {
     "name": "stdout",
     "output_type": "stream",
     "text": [
      "Enter the base of triangle: 1\n",
      "Enter the height of triangle: 1\n",
      "The area of the triangle is: 0.5\n"
     ]
    }
   ],
   "source": [
    "# To find the area of triangle\n",
    "\n",
    "base = float(input(\"Enter the base of triangle: \"))\n",
    "height = float(input(\"Enter the height of triangle: \"))\n",
    "area = 0.5*base*height\n",
    "print(f\"The area of the triangle is: {area}\")"
   ]
  },
  {
   "cell_type": "markdown",
   "metadata": {},
   "source": [
    "4.Write a Python program to swap two variables?"
   ]
  },
  {
   "cell_type": "code",
   "execution_count": 10,
   "metadata": {},
   "outputs": [
    {
     "name": "stdout",
     "output_type": "stream",
     "text": [
      "Enter the value of first variable:45\n",
      "Enter the value of second variable: 67\n",
      "The values before swapping are : first_var: 45.0 , second_var: 67.0\n",
      "The values after swapping are : first_var: 67.0 , second_var: 45.0\n"
     ]
    }
   ],
   "source": [
    "# To swap two variables\n",
    "\n",
    "first_var = float(input(\"Enter the value of first variable:\"))\n",
    "second_var = float(input(\"Enter the value of second variable: \"))\n",
    "print(f\"The values before swapping are : first_var: {first_var} , second_var: {second_var}\")\n",
    "\n",
    "# Creating a temporary variable to store first variable value\n",
    "temp_var = first_var\n",
    "first_var = second_var\n",
    "second_var = temp_var\n",
    "\n",
    "print(f\"The values after swapping are : first_var: {first_var} , second_var: {second_var}\")"
   ]
  },
  {
   "cell_type": "markdown",
   "metadata": {},
   "source": [
    "5.Write a Python program to generate a random number?"
   ]
  },
  {
   "cell_type": "code",
   "execution_count": 15,
   "metadata": {},
   "outputs": [
    {
     "name": "stdout",
     "output_type": "stream",
     "text": [
      "The random generated number is : 0.9609544878402416\n"
     ]
    }
   ],
   "source": [
    "# To generate a random number \n",
    "\n",
    "import random \n",
    "random_num = random.random()\n",
    "print(f\"The random generated number is : {random_num}\")"
   ]
  },
  {
   "cell_type": "code",
   "execution_count": null,
   "metadata": {},
   "outputs": [],
   "source": []
  }
 ],
 "metadata": {
  "kernelspec": {
   "display_name": "Python 3",
   "language": "python",
   "name": "python3"
  },
  "language_info": {
   "codemirror_mode": {
    "name": "ipython",
    "version": 3
   },
   "file_extension": ".py",
   "mimetype": "text/x-python",
   "name": "python",
   "nbconvert_exporter": "python",
   "pygments_lexer": "ipython3",
   "version": "3.8.5"
  }
 },
 "nbformat": 4,
 "nbformat_minor": 4
}
