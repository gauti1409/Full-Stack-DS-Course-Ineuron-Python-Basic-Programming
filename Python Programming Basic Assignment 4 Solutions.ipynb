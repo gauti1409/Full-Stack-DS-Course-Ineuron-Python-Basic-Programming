{
 "cells": [
  {
   "cell_type": "markdown",
   "metadata": {},
   "source": [
    "# Python Programming Basic Assignment"
   ]
  },
  {
   "cell_type": "markdown",
   "metadata": {},
   "source": [
    "## Programming Assignment 4 Solutions"
   ]
  },
  {
   "cell_type": "markdown",
   "metadata": {},
   "source": [
    "1.Write a Python Program to Find the Factorial of a Number?"
   ]
  },
  {
   "cell_type": "code",
   "execution_count": 18,
   "metadata": {},
   "outputs": [
    {
     "name": "stdout",
     "output_type": "stream",
     "text": [
      "Enter the number for which you want the factorial for: 6\n",
      "The factorial of 6 is 720\n"
     ]
    }
   ],
   "source": [
    "# To print the factorial of a number\n",
    "\n",
    "num = int(input(\"Enter the number for which you want the factorial for: \"))\n",
    "\n",
    "fact = 1\n",
    "if num > 0:\n",
    "    for i in range(1,num+1):\n",
    "        fact = fact * i\n",
    "    print(f\"The factorial of {num} is {fact}\")\n",
    "else:\n",
    "    print(\"Factorial does not exist for negative numbers !!\")\n",
    "    "
   ]
  },
  {
   "cell_type": "markdown",
   "metadata": {},
   "source": [
    "2.Write a Python Program to Display the multiplication Table?"
   ]
  },
  {
   "cell_type": "code",
   "execution_count": 27,
   "metadata": {},
   "outputs": [
    {
     "name": "stdout",
     "output_type": "stream",
     "text": [
      "Enter the number for which you want to see the multiplication table: 10\n",
      "Enter the upper_range till which you want to see the multiplication results of 10: 10\n",
      "10 * 1 = 10\n",
      "10 * 2 = 20\n",
      "10 * 3 = 30\n",
      "10 * 4 = 40\n",
      "10 * 5 = 50\n",
      "10 * 6 = 60\n",
      "10 * 7 = 70\n",
      "10 * 8 = 80\n",
      "10 * 9 = 90\n",
      "10 * 10 = 100\n"
     ]
    }
   ],
   "source": [
    "# To display the Multiplication Table of a number\n",
    "\n",
    "num = int(input(\"Enter the number for which you want to see the multiplication table: \"))\n",
    "upper_range = int(input(f\"Enter the upper_range till which you want to see the multiplication results of {num}: \"))\n",
    "\n",
    "for i in range (1,upper_range+1):\n",
    "    i = i*num\n",
    "    print(f\"{num} * {int(i/(num))} = {i}\")"
   ]
  },
  {
   "cell_type": "markdown",
   "metadata": {},
   "source": [
    "3.Write a Python Program to Print the Fibonacci sequence?"
   ]
  },
  {
   "cell_type": "code",
   "execution_count": 45,
   "metadata": {},
   "outputs": [
    {
     "name": "stdout",
     "output_type": "stream",
     "text": [
      "Enter the number till which you want the fibonacci series: 10\n",
      "The fibonacci series of 10 is : \n",
      "0\n",
      "1\n",
      "1\n",
      "2\n",
      "3\n",
      "5\n",
      "8\n",
      "13\n",
      "21\n",
      "34\n",
      "55\n",
      "89\n"
     ]
    }
   ],
   "source": [
    "# To print fibonacci series\n",
    "\n",
    "fib_num =  int(input(\"Enter the number till which you want the fibonacci series: \"))\n",
    "\n",
    "first_num = 0\n",
    "second_num = 1\n",
    "i = 0\n",
    "\n",
    "if fib_num <= 0:\n",
    "    print(\"Please enter a number greater than zero !!\")\n",
    "else:\n",
    "    print(f\"The fibonacci series of {fib_num} is : \")\n",
    "    print(first_num)\n",
    "    print(second_num)\n",
    "    while i < fib_num:\n",
    "        third_num = first_num + second_num\n",
    "        print(third_num)\n",
    "        first_num = second_num\n",
    "        second_num = third_num\n",
    "        i=i+1\n",
    "    "
   ]
  },
  {
   "cell_type": "markdown",
   "metadata": {},
   "source": [
    "4.Write a Python Program to Check Armstrong Number?"
   ]
  },
  {
   "cell_type": "code",
   "execution_count": 9,
   "metadata": {},
   "outputs": [
    {
     "name": "stdout",
     "output_type": "stream",
     "text": [
      "Enter a number to check if it's Armstrong number or not: 153\n",
      "It's an Armstrong number !!\n"
     ]
    }
   ],
   "source": [
    "# To check if the number is Armstrong or not\n",
    "\n",
    "input_num = int(input(\"Enter a number to check if it's Armstrong number or not: \"))\n",
    "\n",
    "dividend = input_num\n",
    "\n",
    "sum_of_digits = 0\n",
    "\n",
    "while dividend > 0:\n",
    "    remainder = dividend % 10\n",
    "    sum_of_digits = sum_of_digits + (remainder**3)\n",
    "    dividend = dividend // 10\n",
    "\n",
    "if input_num == sum_of_digits:\n",
    "    print(\"It's an Armstrong number !!\")\n",
    "else:\n",
    "    print(\"It's not an Armstrong number !!\")\n",
    "    "
   ]
  },
  {
   "cell_type": "markdown",
   "metadata": {},
   "source": [
    "5.\tWrite a Python Program to Find Armstrong Number in an Interval?"
   ]
  },
  {
   "cell_type": "code",
   "execution_count": 2,
   "metadata": {},
   "outputs": [
    {
     "name": "stdout",
     "output_type": "stream",
     "text": [
      "Enter the lower limit of the range: 1\n",
      "Enter the upper limit of the range: 900\n",
      "1 153 370 371 407 "
     ]
    }
   ],
   "source": [
    "# To find armstrong number in an interval\n",
    "\n",
    "lower_limit = int(input(\"Enter the lower limit of the range: \"))\n",
    "upper_limit = int(input(\"Enter the upper limit of the range: \"))\n",
    "\n",
    "for num in range(lower_limit, upper_limit):\n",
    "    sum_of_digits = 0\n",
    "    i = num\n",
    "    while i > 0:\n",
    "        remainder = i % 10\n",
    "        sum_of_digits = sum_of_digits + (remainder**3)\n",
    "        i = i // 10\n",
    "    if num == sum_of_digits:\n",
    "        print(num, end=\" \")\n",
    "        "
   ]
  },
  {
   "cell_type": "markdown",
   "metadata": {},
   "source": [
    "6.Write a Python Program to Find the Sum of Natural Numbers?"
   ]
  },
  {
   "cell_type": "code",
   "execution_count": 5,
   "metadata": {},
   "outputs": [
    {
     "name": "stdout",
     "output_type": "stream",
     "text": [
      "Enter the upper_limit till which you want to find the sum of natural numbers:  -10\n",
      "Natural numbers are not negative and are greater than zero by definition !!\n"
     ]
    }
   ],
   "source": [
    "# To find the sum of natural numbers\n",
    "\n",
    "upper_limit = int(input(\"Enter the upper_limit till which you want to find the sum of natural numbers:  \"))\n",
    "\n",
    "sum_natural_num= 0\n",
    "\n",
    "if upper_limit > 0:\n",
    "    for i in range(0,upper_limit+1):\n",
    "        sum_natural_num = sum_natural_num + i\n",
    "    print(f\"The sum of the given range of natural numbers which is (0,{upper_limit}) is: {sum_natural_num}\")\n",
    "else:\n",
    "    print(\"Natural numbers are not negative and are greater than zero by definition !!\")"
   ]
  },
  {
   "cell_type": "code",
   "execution_count": null,
   "metadata": {},
   "outputs": [],
   "source": []
  },
  {
   "cell_type": "code",
   "execution_count": null,
   "metadata": {},
   "outputs": [],
   "source": []
  }
 ],
 "metadata": {
  "kernelspec": {
   "display_name": "Python 3",
   "language": "python",
   "name": "python3"
  },
  "language_info": {
   "codemirror_mode": {
    "name": "ipython",
    "version": 3
   },
   "file_extension": ".py",
   "mimetype": "text/x-python",
   "name": "python",
   "nbconvert_exporter": "python",
   "pygments_lexer": "ipython3",
   "version": "3.8.5"
  }
 },
 "nbformat": 4,
 "nbformat_minor": 4
}
