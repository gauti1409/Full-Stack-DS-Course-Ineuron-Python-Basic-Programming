{
 "cells": [
  {
   "cell_type": "markdown",
   "metadata": {},
   "source": [
    "# Python Programming Basic Assignment"
   ]
  },
  {
   "cell_type": "markdown",
   "metadata": {},
   "source": [
    "## Programming Assignment 2 Solutions"
   ]
  },
  {
   "cell_type": "markdown",
   "metadata": {},
   "source": [
    "1.Write a Python program to convert kilometers to miles?"
   ]
  },
  {
   "cell_type": "code",
   "execution_count": 30,
   "metadata": {},
   "outputs": [
    {
     "name": "stdout",
     "output_type": "stream",
     "text": [
      "Enter the value in kilometres: 2\n",
      "After conversion, the value is : 1.242742 miles\n"
     ]
    }
   ],
   "source": [
    "# To convert kilometres into miles\n",
    "\n",
    "one_km_in_miles = 0.621371   # 1 km = 0.621371 miles\n",
    "value_in_km = float(input(\"Enter the value in kilometres: \"))\n",
    "value_in_miles = value_in_km * one_km_in_miles\n",
    "print(f\"After conversion, the value is : {value_in_miles} miles\")\n"
   ]
  },
  {
   "cell_type": "markdown",
   "metadata": {},
   "source": [
    "2.Write a Python program to convert Celsius to Fahrenheit?"
   ]
  },
  {
   "cell_type": "code",
   "execution_count": 8,
   "metadata": {},
   "outputs": [
    {
     "name": "stdout",
     "output_type": "stream",
     "text": [
      "Enter the temperature in Celsius: 0\n",
      "After conversion, the temperature is : 32.0 F\n"
     ]
    }
   ],
   "source": [
    "# To convert Celsius into Fahrenheit\n",
    "\n",
    "temp_in_celsius = float(input(\"Enter the temperature in Celsius: \"))\n",
    "temp_in_fahrenheit = ((9/5)*temp_in_celsius)+32\n",
    "print(f\"After conversion, the temperature is : {temp_in_fahrenheit} F\")"
   ]
  },
  {
   "cell_type": "markdown",
   "metadata": {},
   "source": [
    "3.Write a Python program to display calendar?"
   ]
  },
  {
   "cell_type": "code",
   "execution_count": 10,
   "metadata": {},
   "outputs": [
    {
     "name": "stdout",
     "output_type": "stream",
     "text": [
      "Enter the year: 2021\n",
      "Enter the month: 9\n",
      "   September 2021\n",
      "Mo Tu We Th Fr Sa Su\n",
      "       1  2  3  4  5\n",
      " 6  7  8  9 10 11 12\n",
      "13 14 15 16 17 18 19\n",
      "20 21 22 23 24 25 26\n",
      "27 28 29 30\n",
      "\n"
     ]
    }
   ],
   "source": [
    "# To display calendar\n",
    "\n",
    "import calendar\n",
    "year = int(input(\"Enter the year: \"))\n",
    "month = int(input(\"Enter the month: \"))\n",
    "print(calendar.month(year,month))"
   ]
  },
  {
   "cell_type": "markdown",
   "metadata": {},
   "source": [
    "4.Write a Python program to solve quadratic equation?"
   ]
  },
  {
   "cell_type": "code",
   "execution_count": 25,
   "metadata": {},
   "outputs": [
    {
     "name": "stdout",
     "output_type": "stream",
     "text": [
      "Enter the first coefficient: 1\n",
      "Enter the second coefficient: -8\n",
      "Enter the third coefficient: 12\n",
      "The given quadratic equation is: (1.0)x^2 + (-8.0)x + (12.0)\n",
      "(4+0j)\n",
      "The roots of the given quadratic equation are : (2+0j) and (6+0j)\n"
     ]
    }
   ],
   "source": [
    "# To solve the quadratic equation\n",
    "\n",
    "import cmath\n",
    "\n",
    "first_coef = float(input(\"Enter the first coefficient: \"))\n",
    "second_coef = float(input(\"Enter the second coefficient: \"))\n",
    "third_coef = float(input(\"Enter the third coefficient: \"))\n",
    "print(f\"The given quadratic equation is: ({first_coef})x^2 + ({second_coef})x + ({third_coef})\")\n",
    "\n",
    "#Deriving the roots of the equation\n",
    "\n",
    "discriminant = cmath.sqrt((second_coef**2)-(4*first_coef*third_coef))\n",
    "print(discriminant)\n",
    "\n",
    "root_1 = (-second_coef-discriminant)/(2*first_coef)\n",
    "root_2 = (-second_coef+discriminant)/(2*first_coef)\n",
    "\n",
    "print(f\"The roots of the given quadratic equation are : {root_1} and {root_2}\")"
   ]
  },
  {
   "cell_type": "markdown",
   "metadata": {},
   "source": [
    "5.Write a Python program to swap two variables without temp variable?"
   ]
  },
  {
   "cell_type": "code",
   "execution_count": 28,
   "metadata": {},
   "outputs": [
    {
     "name": "stdout",
     "output_type": "stream",
     "text": [
      "Enter the value of first variable:45\n",
      "Enter the value of second variable: 67\n",
      "The values before swapping are : first_var: 45.0 , second_var: 67.0\n",
      "The values after swapping are : first_var: 67.0 , second_var: 45.0\n"
     ]
    }
   ],
   "source": [
    "# To swap two variables without temp variable\n",
    "\n",
    "first_var = float(input(\"Enter the value of first variable:\"))\n",
    "second_var = float(input(\"Enter the value of second variable: \"))\n",
    "print(f\"The values before swapping are : first_var: {first_var} , second_var: {second_var}\")\n",
    "\n",
    "second_var =  first_var + second_var\n",
    "first_var = second_var - first_var\n",
    "second_var = second_var - first_var\n",
    "\n",
    "print(f\"The values after swapping are : first_var: {first_var} , second_var: {second_var}\")"
   ]
  },
  {
   "cell_type": "code",
   "execution_count": null,
   "metadata": {},
   "outputs": [],
   "source": []
  }
 ],
 "metadata": {
  "kernelspec": {
   "display_name": "Python 3",
   "language": "python",
   "name": "python3"
  },
  "language_info": {
   "codemirror_mode": {
    "name": "ipython",
    "version": 3
   },
   "file_extension": ".py",
   "mimetype": "text/x-python",
   "name": "python",
   "nbconvert_exporter": "python",
   "pygments_lexer": "ipython3",
   "version": "3.8.5"
  }
 },
 "nbformat": 4,
 "nbformat_minor": 4
}
